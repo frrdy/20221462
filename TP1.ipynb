{
 "cells": [
  {
   "cell_type": "code",
   "execution_count": 1,
   "metadata": {},
   "outputs": [],
   "source": [
    "import requests"
   ]
  },
  {
   "cell_type": "code",
   "execution_count": 4,
   "metadata": {},
   "outputs": [],
   "source": [
    "def get_weather(lat, lon, api_key):\n",
    "    url = f\"http://api.openweathermap.org/data/2.5/weather?lat={lat}&lon={lon}&appid={api_key}&units=metric\"\n",
    "    response = requests.get(url)\n",
    "    data = response.json()\n",
    "    weather = {\n",
    "        'temperature': data['main']['temp'],\n",
    "        'description': data['weather'][0]['description'],\n",
    "        'icon': data['weather'][0]['icon']\n",
    "    }\n",
    "    return data"
   ]
  },
  {
   "cell_type": "code",
   "execution_count": 5,
   "metadata": {},
   "outputs": [
    {
     "name": "stdout",
     "output_type": "stream",
     "text": [
      "{'coord': {'lon': 2.3515, 'lat': 48.8567}, 'weather': [{'id': 803, 'main': 'Clouds', 'description': 'broken clouds', 'icon': '04d'}], 'base': 'stations', 'main': {'temp': 17.25, 'feels_like': 17.33, 'temp_min': 16.07, 'temp_max': 18.82, 'pressure': 1019, 'humidity': 88}, 'visibility': 10000, 'wind': {'speed': 2.57, 'deg': 350}, 'clouds': {'all': 75}, 'dt': 1683482572, 'sys': {'type': 2, 'id': 2012208, 'country': 'FR', 'sunrise': 1683433262, 'sunset': 1683486797}, 'timezone': 7200, 'id': 6455259, 'name': 'Paris', 'cod': 200}\n"
     ]
    }
   ],
   "source": [
    "api_key = \"879da549a0107a9937b1809d1eb05f3c\"\n",
    "lat = 48.8566\n",
    "lon = 2.3522\n",
    "data = get_weather(lat, lon, api_key)\n",
    "print(data)"
   ]
  }
 ],
 "metadata": {
  "kernelspec": {
   "display_name": "Python 3",
   "language": "python",
   "name": "python3"
  },
  "language_info": {
   "codemirror_mode": {
    "name": "ipython",
    "version": 3
   },
   "file_extension": ".py",
   "mimetype": "text/x-python",
   "name": "python",
   "nbconvert_exporter": "python",
   "pygments_lexer": "ipython3",
   "version": "3.9.6 (default, Oct 18 2022, 12:41:40) \n[Clang 14.0.0 (clang-1400.0.29.202)]"
  },
  "orig_nbformat": 4,
  "vscode": {
   "interpreter": {
    "hash": "31f2aee4e71d21fbe5cf8b01ff0e069b9275f58929596ceb00d14d90e3e16cd6"
   }
  }
 },
 "nbformat": 4,
 "nbformat_minor": 2
}
